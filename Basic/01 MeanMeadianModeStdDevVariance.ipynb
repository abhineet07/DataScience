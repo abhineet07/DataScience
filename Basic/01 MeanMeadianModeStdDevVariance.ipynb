{
 "cells": [
  {
   "cell_type": "code",
   "execution_count": 2,
   "metadata": {},
   "outputs": [],
   "source": [
    "import numpy as np"
   ]
  },
  {
   "cell_type": "code",
   "execution_count": 3,
   "metadata": {},
   "outputs": [
    {
     "name": "stdout",
     "output_type": "stream",
     "text": [
      "[ 54809.3442883   32499.72218994  28390.755474    22451.42935952\n",
      "  30210.07874648  14307.82755109 -11235.34899835  39372.40721185\n",
      "  52708.09902569  26475.34289381]\n",
      "<class 'numpy.ndarray'>\n"
     ]
    }
   ],
   "source": [
    "# centered around 27000\n",
    "# standard deviation of 15000\n",
    "# and 10000 data points\n",
    "incomes = np.random.normal(27000, 15000, 10000)\n",
    "print(incomes[:10])\n",
    "print(type(incomes))"
   ]
  },
  {
   "cell_type": "code",
   "execution_count": 5,
   "metadata": {},
   "outputs": [
    {
     "name": "stdout",
     "output_type": "stream",
     "text": [
      "26989.520298737192\n"
     ]
    }
   ],
   "source": [
    "# calculating mean\n",
    "mean = np.mean(incomes)\n",
    "print(mean)\n",
    "# the answer should be close to 27000"
   ]
  },
  {
   "cell_type": "code",
   "execution_count": 7,
   "metadata": {},
   "outputs": [
    {
     "data": {
      "image/png": "[encoded data removed]",
      "text/plain": [
       "<Figure size 432x288 with 1 Axes>"
      ]
     },
     "metadata": {
      "needs_background": "light"
     },
     "output_type": "display_data"
    }
   ],
   "source": [
    "import matplotlib.pyplot as plt\n",
    "\n",
    "# 50 buckets in histogram\n",
    "plt.hist(incomes, 50)\n",
    "plt.show()"
   ]
  },
  {
   "cell_type": "code",
   "execution_count": 10,
   "metadata": {},
   "outputs": [
    {
     "name": "stdout",
     "output_type": "stream",
     "text": [
      "26921.462945057345\n"
     ]
    }
   ],
   "source": [
    "median = np.median(incomes)\n",
    "print(median)"
   ]
  },
  {
   "cell_type": "markdown",
   "metadata": {},
   "source": [
    "Now if we add an outlier to our data"
   ]
  },
  {
   "cell_type": "code",
   "execution_count": 11,
   "metadata": {},
   "outputs": [],
   "source": [
    "incomes = np.append(incomes, [100000000])"
   ]
  },
  {
   "cell_type": "code",
   "execution_count": 12,
   "metadata": {},
   "outputs": [
    {
     "name": "stdout",
     "output_type": "stream",
     "text": [
      "26922.27187510763\n"
     ]
    }
   ],
   "source": [
    "median = np.median(incomes)\n",
    "print(median)\n",
    "# see median is not much affected by outlier"
   ]
  },
  {
   "cell_type": "code",
   "execution_count": 13,
   "metadata": {},
   "outputs": [
    {
     "name": "stdout",
     "output_type": "stream",
     "text": [
      "36985.82171656554\n"
     ]
    }
   ],
   "source": [
    "mean = np.mean(incomes)\n",
    "print(mean)\n",
    "# observe mean is very much affected by outliers"
   ]
  },
  {
   "cell_type": "code",
   "execution_count": 15,
   "metadata": {},
   "outputs": [
    {
     "data": {
      "text/plain": [
       "array([46, 75, 53, 50, 33, 54, 75, 50, 21, 30, 76, 87, 65, 36, 63, 32, 49,\n",
       "       59, 76, 53, 54, 88, 53, 88, 71, 67, 66, 77, 74, 73, 31, 51, 24, 42,\n",
       "       21, 60, 69, 65, 40, 25, 30, 62, 32, 63, 86, 89, 23, 24, 56, 63, 53,\n",
       "       62, 63, 40, 29, 75, 45, 25, 46, 26, 46, 48, 74, 22, 62, 79, 53, 51,\n",
       "       53, 64, 87, 42, 74, 33, 29, 21, 18, 89, 30, 27, 57, 87, 45, 83, 41,\n",
       "       85, 83, 31, 32, 24, 46, 55, 58, 59, 62, 79, 61, 59, 47, 83, 70, 87,\n",
       "       67, 42, 39, 30, 42, 79, 19, 51, 70, 32, 71, 49, 69, 45, 28, 74, 50,\n",
       "       87, 78, 53, 75, 29, 52, 36, 57, 81, 38, 49, 53, 67, 71, 51, 52, 25,\n",
       "       75, 27, 22, 43, 26, 52, 45, 61, 34, 32, 22, 56, 18, 25, 40, 51, 50,\n",
       "       38, 85, 42, 43, 84, 65, 81, 59, 23, 62, 32, 79, 77, 88, 84, 72, 62,\n",
       "       49, 68, 55, 62, 79, 55, 67, 71, 36, 44, 69, 45, 35, 20, 20, 64, 70,\n",
       "       34, 48, 66, 65, 86, 62, 19, 37, 78, 83, 51, 43, 21, 73, 20, 26, 88,\n",
       "       53, 42, 84, 31, 18, 29, 89, 79, 46, 30, 21, 70, 30, 43, 24, 18, 73,\n",
       "       27, 62, 58, 48, 71, 67, 50, 22, 85, 38, 56, 64, 22, 32, 79, 25, 67,\n",
       "       42, 79, 41, 19, 52, 84, 75, 39, 83, 78, 79, 47, 54, 81, 64, 71, 74,\n",
       "       31, 80, 82, 32, 82, 20, 31, 72, 33, 84, 59, 42, 44, 18, 25, 31, 18,\n",
       "       64, 45, 74, 79, 45, 74, 49, 77, 44, 25, 78, 45, 19, 55, 43, 78, 65,\n",
       "       86, 83, 62, 63, 78, 56, 56, 75, 72, 24, 60, 30, 56, 33, 35, 63, 39,\n",
       "       56, 80, 38, 34, 21, 67, 33, 59, 65, 67, 59, 34, 53, 26, 55, 81, 38,\n",
       "       73, 49, 42, 78, 18, 26, 50, 40, 70, 84, 47, 28, 65, 26, 20, 57, 44,\n",
       "       58, 26, 84, 38, 79, 31, 63, 29, 72, 81, 53, 18, 43, 74, 87, 49, 20,\n",
       "       55, 51, 77, 88, 74, 51, 77, 54, 66, 89, 32, 36, 47, 77, 68, 22, 78,\n",
       "       60, 73, 89, 37, 26, 84, 55, 33, 33, 33, 64, 46, 64, 81, 70, 18, 24,\n",
       "       20, 84, 59, 38, 26, 58, 39, 51, 59, 67, 66, 45, 71, 84, 29, 21, 86,\n",
       "       75, 42, 27, 82, 52, 75, 62, 56, 47, 67, 56, 87, 25, 71, 87, 71, 35,\n",
       "       87, 60, 48, 57, 50, 81, 53, 76, 34, 85, 61, 19, 50, 75, 45, 81, 68,\n",
       "       44, 66, 46, 74, 60, 84, 19, 67, 66, 18, 82, 61, 55, 44, 37, 25, 57,\n",
       "       33, 42, 35, 22, 34, 47, 84, 85, 36, 26, 38, 87, 89, 84, 36, 50, 64,\n",
       "       28, 49, 45, 48, 20, 88, 54, 28, 80, 78, 55, 43, 27, 67, 38, 50, 77,\n",
       "       42, 62, 18, 62, 29, 43, 37])"
      ]
     },
     "execution_count": 15,
     "metadata": {},
     "output_type": "execute_result"
    }
   ],
   "source": [
    "ages = np.random.randint(18, high=90, size=500)\n",
    "ages"
   ]
  },
  {
   "cell_type": "code",
   "execution_count": 21,
   "metadata": {},
   "outputs": [
    {
     "data": {
      "text/plain": [
       "ModeResult(mode=array([62]), count=array([13]))"
      ]
     },
     "execution_count": 21,
     "metadata": {},
     "output_type": "execute_result"
    }
   ],
   "source": [
    "from scipy import stats\n",
    "\n",
    "# calculation mode\n",
    "stats.mode(ages)"
   ]
  },
  {
   "cell_type": "markdown",
   "metadata": {},
   "source": [
    "Standard Devaition and Variance"
   ]
  },
  {
   "cell_type": "code",
   "execution_count": 23,
   "metadata": {},
   "outputs": [
    {
     "data": {
      "image/png": "[encoded data removed]",
      "text/plain": [
       "<Figure size 432x288 with 1 Axes>"
      ]
     },
     "metadata": {
      "needs_background": "light"
     },
     "output_type": "display_data"
    }
   ],
   "source": [
    "incomes = np.random.normal(100.0, 20.0, 10000)\n",
    "\n",
    "plt.hist(incomes, 50)\n",
    "plt.show()"
   ]
  },
  {
   "cell_type": "code",
   "execution_count": 24,
   "metadata": {},
   "outputs": [
    {
     "data": {
      "text/plain": [
       "20.176272082823555"
      ]
     },
     "execution_count": 24,
     "metadata": {},
     "output_type": "execute_result"
    }
   ],
   "source": [
    "standardDeviation = incomes.std()\n",
    "standardDeviation"
   ]
  },
  {
   "cell_type": "code",
   "execution_count": 26,
   "metadata": {},
   "outputs": [
    {
     "data": {
      "text/plain": [
       "407.0819551601252"
      ]
     },
     "execution_count": 26,
     "metadata": {},
     "output_type": "execute_result"
    }
   ],
   "source": [
    "variance = incomes.var()\n",
    "variance"
   ]
  },
  {
   "cell_type": "code",
   "execution_count": null,
   "metadata": {},
   "outputs": [],
   "source": []
  }
 ],
 "metadata": {
  "kernelspec": {
   "display_name": "Python 3",
   "language": "python",
   "name": "python3"
  },
  "language_info": {
   "codemirror_mode": {
    "name": "ipython",
    "version": 3
   },
   "file_extension": ".py",
   "mimetype": "text/x-python",
   "name": "python",
   "nbconvert_exporter": "python",
   "pygments_lexer": "ipython3",
   "version": "3.6.8"
  }
 },
 "nbformat": 4,
 "nbformat_minor": 2
}
